{
 "cells": [
  {
   "cell_type": "code",
   "execution_count": 3,
   "id": "a2a5ae0f",
   "metadata": {},
   "outputs": [
    {
     "name": "stdout",
     "output_type": "stream",
     "text": [
      "VideoObject(id='31711732152640729-9221301999562551700', model='cogvideox', video_result=None, task_status='PROCESSING', request_id='-9221301999562551701')\n"
     ]
    }
   ],
   "source": [
    "from zhipuai import ZhipuAI\n",
    "client = ZhipuAI(api_key='3da6b682c5fcc4a35992ed252d0a0ccd.ABYOzRB6KjE7w9QP')\n",
    "\n",
    "response = client.videos.generations(\n",
    "    model=\"cogvideox\"\n",
    "    ,prompt=\"一只在阳光下飞翔的鹰\"\n",
    ")\n",
    "print(response)\n",
    "\n",
    "\n",
    "\n"
   ]
  },
  {
   "cell_type": "code",
   "execution_count": 9,
   "id": "4ff91f2e",
   "metadata": {},
   "outputs": [
    {
     "name": "stdout",
     "output_type": "stream",
     "text": [
      "VideoObject(id=None, model='cogvideox', video_result=[VideoResult(url='https://aigc-files.bigmodel.cn/api/cogvideo/c6bda1dc-a827-11ef-bd78-9ee7942420ea_0.mp4', cover_image_url='https://aigc-files.bigmodel.cn/api/cogvideo/c6bda1dc-a827-11ef-bd78-9ee7942420ea_cover_0.jpeg')], task_status='SUCCESS', request_id='-9221301999562551701')\n"
     ]
    }
   ],
   "source": [
    "from zhipuai import ZhipuAI\n",
    "client = ZhipuAI(api_key=\"3da6b682c5fcc4a35992ed252d0a0ccd.ABYOzRB6KjE7w9QP\") # 请填写您自己的APIKey\n",
    "\n",
    "response = client.videos.retrieve_videos_result(\n",
    "    id=\"31711732152640729-9221301999562551700\"\n",
    ")\n",
    "print(response)"
   ]
  },
  {
   "cell_type": "code",
   "execution_count": null,
   "id": "b07698e0",
   "metadata": {},
   "outputs": [],
   "source": []
  }
 ],
 "metadata": {
  "kernelspec": {
   "display_name": "Python 3 (ipykernel)",
   "language": "python",
   "name": "python3"
  },
  "language_info": {
   "codemirror_mode": {
    "name": "ipython",
    "version": 3
   },
   "file_extension": ".py",
   "mimetype": "text/x-python",
   "name": "python",
   "nbconvert_exporter": "python",
   "pygments_lexer": "ipython3",
   "version": "3.12.4"
  }
 },
 "nbformat": 4,
 "nbformat_minor": 5
}
